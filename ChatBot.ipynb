{
  "nbformat": 4,
  "nbformat_minor": 0,
  "metadata": {
    "colab": {
      "provenance": [],
      "authorship_tag": "ABX9TyNDU17qsKPdUESDQL5Ziq7G",
      "include_colab_link": true
    },
    "kernelspec": {
      "name": "python3",
      "display_name": "Python 3"
    },
    "language_info": {
      "name": "python"
    }
  },
  "cells": [
    {
      "cell_type": "markdown",
      "metadata": {
        "id": "view-in-github",
        "colab_type": "text"
      },
      "source": [
        "<a href=\"https://colab.research.google.com/github/marcelosi10/AlureAula4_ChatBot/blob/main/ChatBot.ipynb\" target=\"_parent\"><img src=\"https://colab.research.google.com/assets/colab-badge.svg\" alt=\"Open In Colab\"/></a>"
      ]
    },
    {
      "cell_type": "markdown",
      "source": [
        "Instalando o SDK do Google.\n"
      ],
      "metadata": {
        "id": "AHkXmHw8dkvK"
      }
    },
    {
      "cell_type": "code",
      "execution_count": 1,
      "metadata": {
        "id": "bpUT6kgEcEst"
      },
      "outputs": [],
      "source": [
        "!pip install -q -U google-generativeai"
      ]
    },
    {
      "cell_type": "code",
      "source": [
        "# Import the Python SDK\n",
        "import google.generativeai as genai\n",
        "from google.colab import userdata\n",
        "GOOGLE_API_KEY = userdata.get('secret_key')\n",
        "genai.configure(api_key=GOOGLE_API_KEY)"
      ],
      "metadata": {
        "id": "21XfeVY9c8h7"
      },
      "execution_count": 2,
      "outputs": []
    },
    {
      "cell_type": "markdown",
      "source": [
        "Listar os modelos disponiveis"
      ],
      "metadata": {
        "id": "dFgDfVX6dXfj"
      }
    },
    {
      "cell_type": "code",
      "source": [
        "for m in genai.list_models():\n",
        "  if 'generateContent' in m.supported_generation_methods:\n",
        "    print(m.name)"
      ],
      "metadata": {
        "colab": {
          "base_uri": "https://localhost:8080/",
          "height": 138
        },
        "id": "5v0pu2FpdWOJ",
        "outputId": "3700f121-9d0b-4fc3-e3db-829919e6d612"
      },
      "execution_count": 4,
      "outputs": [
        {
          "output_type": "stream",
          "name": "stdout",
          "text": [
            "models/gemini-1.0-pro\n",
            "models/gemini-1.0-pro-001\n",
            "models/gemini-1.0-pro-latest\n",
            "models/gemini-1.0-pro-vision-latest\n",
            "models/gemini-1.5-pro-latest\n",
            "models/gemini-pro\n",
            "models/gemini-pro-vision\n"
          ]
        }
      ]
    },
    {
      "cell_type": "code",
      "source": [
        "generation_config = {\n",
        "    \"candidate_count\": 1,\n",
        "    \"temperature\": 0.5,\n",
        "}"
      ],
      "metadata": {
        "id": "xeUpf2zxiBRi"
      },
      "execution_count": 5,
      "outputs": []
    },
    {
      "cell_type": "code",
      "source": [
        "safety_settings = {\n",
        "    \"HARASSMENT\":\"BLOCK_NONE\",\n",
        "    \"HATE\": \"BLOCK_NONE\",\n",
        "    \"SEXUAL\": \"BLOCK_NONE\",\n",
        "    \"DANGEROUS\": \"BLOCK_NONE\",\n",
        "}"
      ],
      "metadata": {
        "id": "CymA0zfWi1Ix"
      },
      "execution_count": 6,
      "outputs": []
    },
    {
      "cell_type": "markdown",
      "source": [
        "INICIALIZANDO O MODELO"
      ],
      "metadata": {
        "id": "qGZCa7sek1ud"
      }
    },
    {
      "cell_type": "code",
      "source": [
        "model = genai.GenerativeModel(model_name=\"gemini-1.0-pro\",\n",
        "                              generation_config=generation_config,\n",
        "                              safety_settings=safety_settings)"
      ],
      "metadata": {
        "id": "c8S2_Vw1lEQf"
      },
      "execution_count": 7,
      "outputs": []
    },
    {
      "cell_type": "code",
      "source": [
        "response = model.generate_content(\"Vamos Aprender conteúdo sobre IA. Me dê sugestôes.\")\n",
        "print(response.text)"
      ],
      "metadata": {
        "colab": {
          "base_uri": "https://localhost:8080/",
          "height": 746
        },
        "id": "kp16ORqrmufZ",
        "outputId": "38395d78-6c10-4dfe-a1d8-3f3d1ccafc41"
      },
      "execution_count": 8,
      "outputs": [
        {
          "output_type": "stream",
          "name": "stdout",
          "text": [
            "**Conceitos Básicos**\n",
            "\n",
            "* Definição de Inteligência Artificial (IA)\n",
            "* Tipos de IA: aprendizado de máquina, aprendizado profundo, processamento de linguagem natural\n",
            "* Algoritmos de IA comuns: redes neurais, árvores de decisão, máquinas de vetores de suporte\n",
            "\n",
            "**Aprendizado de Máquina**\n",
            "\n",
            "* Tipos de aprendizado de máquina: supervisionado, não supervisionado, por reforço\n",
            "* Modelos de aprendizado de máquina: regressão, classificação, agrupamento\n",
            "* Técnicas de avaliação de modelos: precisão, recall, F1-score\n",
            "\n",
            "**Aprendizado Profundo**\n",
            "\n",
            "* Redes neurais: convolucionais, recorrentes, transformadores\n",
            "* Arquiteturas de rede neural comuns: ResNet, Inception, BERT\n",
            "* Aplicações de aprendizado profundo: reconhecimento de imagem, processamento de linguagem natural\n",
            "\n",
            "**Processamento de Linguagem Natural**\n",
            "\n",
            "* Tarefas de PNL: classificação de texto, geração de linguagem, tradução automática\n",
            "* Modelos de PNL: redes neurais recorrentes, transformadores\n",
            "* Avaliação de modelos de PNL: BLEU, ROUGE, perplexidade\n",
            "\n",
            "**Aplicações da IA**\n",
            "\n",
            "* Cuidados de saúde: diagnóstico, tratamento, descoberta de medicamentos\n",
            "* Finanças: previsão de mercado, detecção de fraudes, gestão de investimentos\n",
            "* Transporte: veículos autônomos, otimização de rotas, gerenciamento de tráfego\n",
            "* Varejo: recomendações personalizadas, análise de sentimento, previsão de demanda\n",
            "\n",
            "**Ética e Implicações Sociais da IA**\n",
            "\n",
            "* Preocupações éticas: viés, privacidade, responsabilidade\n",
            "* Implicações sociais: automação do trabalho, desigualdade, discriminação\n",
            "* Diretrizes éticas para o desenvolvimento e uso de IA\n",
            "\n",
            "**Recursos de Aprendizagem**\n",
            "\n",
            "* Cursos online: Coursera, edX, Udemy\n",
            "* Livros: \"Inteligência Artificial: Uma Abordagem Moderna\" por Stuart Russell e Peter Norvig\n",
            "* Tutoriais: TensorFlow, PyTorch, Keras\n"
          ]
        }
      ]
    },
    {
      "cell_type": "code",
      "source": [
        "chat = model.start_chat(history=[])"
      ],
      "metadata": {
        "id": "ZjyNRKFznlSp"
      },
      "execution_count": 9,
      "outputs": []
    },
    {
      "cell_type": "code",
      "source": [
        "prompt = input(\"Esperando prompt: \")\n",
        "\n",
        "while prompt != \"fim\":\n",
        "  response = chat.send_message(prompt)\n",
        "  print(\"Resposta\", response.text, \"\\n\")\n",
        "  prompt = input(\"Esperando prompt: \")"
      ],
      "metadata": {
        "colab": {
          "base_uri": "https://localhost:8080/",
          "height": 243
        },
        "id": "-sbl6-qCojTZ",
        "outputId": "771f2481-6b4b-4e7b-e2ff-9959936c681e"
      },
      "execution_count": 11,
      "outputs": [
        {
          "name": "stdout",
          "output_type": "stream",
          "text": [
            "Esperando prompt: Qual é capital do Japão?\n",
            "Resposta Tóquio \n",
            "\n",
            "Esperando prompt: qual é a comida tipica desse pais?\n",
            "Resposta Sushi \n",
            "\n",
            "Esperando prompt: o meu prime nasceu nessa cidade qual é a nacionalidade dele?\n",
            "Resposta Japonês \n",
            "\n",
            "Esperando prompt: E qual é a população dessa cidade?\n",
            "Resposta 13.960.236 (2023) \n",
            "\n",
            "Esperando prompt: fim\n"
          ]
        }
      ]
    }
  ]
}